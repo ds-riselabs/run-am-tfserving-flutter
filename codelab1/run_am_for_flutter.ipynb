{
  "nbformat": 4,
  "nbformat_minor": 0,
  "metadata": {
    "colab": {
      "provenance": [],
      "collapsed_sections": []
    },
    "kernelspec": {
      "name": "python3",
      "display_name": "Python 3"
    },
    "accelerator": "GPU"
  },
  "cells": [
    {
      "cell_type": "code",
      "metadata": {
        "id": "Awq8sMaIFHJ1"
      },
      "source": [
        "# Install Model maker\n",
        "!pip install -q tflite-model-maker &> /dev/null"
      ],
      "execution_count": 1,
      "outputs": []
    },
    {
      "cell_type": "code",
      "metadata": {
        "id": "2fEAqoLLF6O9"
      },
      "source": [
        "# Imports necessary libraries\n",
        "import numpy as np\n",
        "import pandas as pd\n",
        "import os\n",
        "import glob\n",
        "import warnings\n",
        "from tflite_model_maker import configs\n",
        "from tflite_model_maker import ExportFormat\n",
        "from tflite_model_maker import model_spec\n",
        "from tflite_model_maker import text_classifier\n",
        "from tflite_model_maker.text_classifier import DataLoader\n",
        "\n",
        "# Imports and check that we are using TF 2.x\n",
        "import tensorflow as tf\n",
        "assert tf.__version__.startswith('2')\n",
        "tf.get_logger().setLevel('ERROR')\n",
        "#kernel setttings\n",
        "warnings.filterwarnings(action='ignore')\n",
        "pd.set_option('display.max_rows', 25000)"
      ],
      "execution_count": 2,
      "outputs": []
    },
    {
      "cell_type": "markdown",
      "source": [
        "#### **Import dataset**\n",
        "Import the news dataset and read them as excel files using the Pandas library."
      ],
      "metadata": {
        "id": "fy3G5mJG-NG0"
      }
    },
    {
      "cell_type": "code",
      "source": [
        "#import and mount google drive\n",
        "from google.colab import drive\n",
        "drive.mount('/content/gdrive')"
      ],
      "metadata": {
        "colab": {
          "base_uri": "https://localhost:8080/"
        },
        "id": "RogA3xiV-Sgn",
        "outputId": "7443e9e8-2b6b-4013-ea80-028032b6779d"
      },
      "execution_count": 3,
      "outputs": [
        {
          "output_type": "stream",
          "name": "stdout",
          "text": [
            "Mounted at /content/gdrive\n"
          ]
        }
      ]
    },
    {
      "cell_type": "code",
      "metadata": {
        "id": "lsuDZvjgREsS",
        "outputId": "e4f15bcc-2be6-4dae-ccdf-5da3a41b00f3",
        "colab": {
          "base_uri": "https://localhost:8080/"
        }
      },
      "source": [
        "# Change directory to the folder where the downloaded data was in your drive\n",
        "%cd /content/gdrive/My Drive/run-am data"
      ],
      "execution_count": 4,
      "outputs": [
        {
          "output_type": "stream",
          "name": "stdout",
          "text": [
            "/content/gdrive/My Drive/run-am data\n"
          ]
        }
      ]
    },
    {
      "cell_type": "code",
      "source": [
        "# Get xlsx files list from a folder holding them\n",
        "path = '/content/gdrive/My Drive/run-am data'\n",
        "excel_files = glob.glob(path + \"/*.xlsx\")\n",
        "# Read each xlsx file into DataFrame\n",
        "# This creates a list of dataframes\n",
        "df_list = (pd.read_excel(file) for file in excel_files)"
      ],
      "metadata": {
        "id": "kHOaGRXJ-fdC"
      },
      "execution_count": 5,
      "outputs": []
    },
    {
      "cell_type": "code",
      "source": [
        "# Concatenate all DataFrames in the data folder\n",
        "big_df   = pd.concat(df_list, ignore_index=True)"
      ],
      "metadata": {
        "id": "4HXsSm35-jhy"
      },
      "execution_count": 6,
      "outputs": []
    },
    {
      "cell_type": "code",
      "source": [
        "big_df.shape"
      ],
      "metadata": {
        "colab": {
          "base_uri": "https://localhost:8080/"
        },
        "id": "3LvJ9-tM-ohS",
        "outputId": "099cda74-522d-4ff3-b276-8bbe5b339baf"
      },
      "execution_count": 7,
      "outputs": [
        {
          "output_type": "execute_result",
          "data": {
            "text/plain": [
              "(26409, 4)"
            ]
          },
          "metadata": {},
          "execution_count": 7
        }
      ]
    },
    {
      "cell_type": "code",
      "source": [
        "big_df.head()"
      ],
      "metadata": {
        "colab": {
          "base_uri": "https://localhost:8080/",
          "height": 206
        },
        "id": "_Fcs6rx7-tbt",
        "outputId": "896b44b8-4d50-4db8-f701-42914928abb9"
      },
      "execution_count": 8,
      "outputs": [
        {
          "output_type": "execute_result",
          "data": {
            "text/plain": [
              "                                       News-Headline News-Source  \\\n",
              "0  Appeal court sets aside judgement that voided ...  Unverified   \n",
              "1  Nnamdi Kanu to appear in court May 18 —Defence...  Unverified   \n",
              "2  The outrageous cost of party nomination form w...  Unverified   \n",
              "3  2023 Presidency should go to South East - Obas...  Unverified   \n",
              "4  President Buhari rejects call for tenure exten...  Unverified   \n",
              "\n",
              "                  Date    Publisher  \n",
              "0  2022-11-05 00:00:00  Linda Ikeji  \n",
              "1  2022-11-05 00:00:00  Linda Ikeji  \n",
              "2  2022-11-05 00:00:00  Linda Ikeji  \n",
              "3  2022-11-05 00:00:00   LindaIkeji  \n",
              "4  2022-10-05 00:00:00  Linda-Ikeji  "
            ],
            "text/html": [
              "\n",
              "  <div id=\"df-123ae798-5ee0-4e95-b5dd-f0b2daac0baf\">\n",
              "    <div class=\"colab-df-container\">\n",
              "      <div>\n",
              "<style scoped>\n",
              "    .dataframe tbody tr th:only-of-type {\n",
              "        vertical-align: middle;\n",
              "    }\n",
              "\n",
              "    .dataframe tbody tr th {\n",
              "        vertical-align: top;\n",
              "    }\n",
              "\n",
              "    .dataframe thead th {\n",
              "        text-align: right;\n",
              "    }\n",
              "</style>\n",
              "<table border=\"1\" class=\"dataframe\">\n",
              "  <thead>\n",
              "    <tr style=\"text-align: right;\">\n",
              "      <th></th>\n",
              "      <th>News-Headline</th>\n",
              "      <th>News-Source</th>\n",
              "      <th>Date</th>\n",
              "      <th>Publisher</th>\n",
              "    </tr>\n",
              "  </thead>\n",
              "  <tbody>\n",
              "    <tr>\n",
              "      <th>0</th>\n",
              "      <td>Appeal court sets aside judgement that voided ...</td>\n",
              "      <td>Unverified</td>\n",
              "      <td>2022-11-05 00:00:00</td>\n",
              "      <td>Linda Ikeji</td>\n",
              "    </tr>\n",
              "    <tr>\n",
              "      <th>1</th>\n",
              "      <td>Nnamdi Kanu to appear in court May 18 —Defence...</td>\n",
              "      <td>Unverified</td>\n",
              "      <td>2022-11-05 00:00:00</td>\n",
              "      <td>Linda Ikeji</td>\n",
              "    </tr>\n",
              "    <tr>\n",
              "      <th>2</th>\n",
              "      <td>The outrageous cost of party nomination form w...</td>\n",
              "      <td>Unverified</td>\n",
              "      <td>2022-11-05 00:00:00</td>\n",
              "      <td>Linda Ikeji</td>\n",
              "    </tr>\n",
              "    <tr>\n",
              "      <th>3</th>\n",
              "      <td>2023 Presidency should go to South East - Obas...</td>\n",
              "      <td>Unverified</td>\n",
              "      <td>2022-11-05 00:00:00</td>\n",
              "      <td>LindaIkeji</td>\n",
              "    </tr>\n",
              "    <tr>\n",
              "      <th>4</th>\n",
              "      <td>President Buhari rejects call for tenure exten...</td>\n",
              "      <td>Unverified</td>\n",
              "      <td>2022-10-05 00:00:00</td>\n",
              "      <td>Linda-Ikeji</td>\n",
              "    </tr>\n",
              "  </tbody>\n",
              "</table>\n",
              "</div>\n",
              "      <button class=\"colab-df-convert\" onclick=\"convertToInteractive('df-123ae798-5ee0-4e95-b5dd-f0b2daac0baf')\"\n",
              "              title=\"Convert this dataframe to an interactive table.\"\n",
              "              style=\"display:none;\">\n",
              "        \n",
              "  <svg xmlns=\"http://www.w3.org/2000/svg\" height=\"24px\"viewBox=\"0 0 24 24\"\n",
              "       width=\"24px\">\n",
              "    <path d=\"M0 0h24v24H0V0z\" fill=\"none\"/>\n",
              "    <path d=\"M18.56 5.44l.94 2.06.94-2.06 2.06-.94-2.06-.94-.94-2.06-.94 2.06-2.06.94zm-11 1L8.5 8.5l.94-2.06 2.06-.94-2.06-.94L8.5 2.5l-.94 2.06-2.06.94zm10 10l.94 2.06.94-2.06 2.06-.94-2.06-.94-.94-2.06-.94 2.06-2.06.94z\"/><path d=\"M17.41 7.96l-1.37-1.37c-.4-.4-.92-.59-1.43-.59-.52 0-1.04.2-1.43.59L10.3 9.45l-7.72 7.72c-.78.78-.78 2.05 0 2.83L4 21.41c.39.39.9.59 1.41.59.51 0 1.02-.2 1.41-.59l7.78-7.78 2.81-2.81c.8-.78.8-2.07 0-2.86zM5.41 20L4 18.59l7.72-7.72 1.47 1.35L5.41 20z\"/>\n",
              "  </svg>\n",
              "      </button>\n",
              "      \n",
              "  <style>\n",
              "    .colab-df-container {\n",
              "      display:flex;\n",
              "      flex-wrap:wrap;\n",
              "      gap: 12px;\n",
              "    }\n",
              "\n",
              "    .colab-df-convert {\n",
              "      background-color: #E8F0FE;\n",
              "      border: none;\n",
              "      border-radius: 50%;\n",
              "      cursor: pointer;\n",
              "      display: none;\n",
              "      fill: #1967D2;\n",
              "      height: 32px;\n",
              "      padding: 0 0 0 0;\n",
              "      width: 32px;\n",
              "    }\n",
              "\n",
              "    .colab-df-convert:hover {\n",
              "      background-color: #E2EBFA;\n",
              "      box-shadow: 0px 1px 2px rgba(60, 64, 67, 0.3), 0px 1px 3px 1px rgba(60, 64, 67, 0.15);\n",
              "      fill: #174EA6;\n",
              "    }\n",
              "\n",
              "    [theme=dark] .colab-df-convert {\n",
              "      background-color: #3B4455;\n",
              "      fill: #D2E3FC;\n",
              "    }\n",
              "\n",
              "    [theme=dark] .colab-df-convert:hover {\n",
              "      background-color: #434B5C;\n",
              "      box-shadow: 0px 1px 3px 1px rgba(0, 0, 0, 0.15);\n",
              "      filter: drop-shadow(0px 1px 2px rgba(0, 0, 0, 0.3));\n",
              "      fill: #FFFFFF;\n",
              "    }\n",
              "  </style>\n",
              "\n",
              "      <script>\n",
              "        const buttonEl =\n",
              "          document.querySelector('#df-123ae798-5ee0-4e95-b5dd-f0b2daac0baf button.colab-df-convert');\n",
              "        buttonEl.style.display =\n",
              "          google.colab.kernel.accessAllowed ? 'block' : 'none';\n",
              "\n",
              "        async function convertToInteractive(key) {\n",
              "          const element = document.querySelector('#df-123ae798-5ee0-4e95-b5dd-f0b2daac0baf');\n",
              "          const dataTable =\n",
              "            await google.colab.kernel.invokeFunction('convertToInteractive',\n",
              "                                                     [key], {});\n",
              "          if (!dataTable) return;\n",
              "\n",
              "          const docLinkHtml = 'Like what you see? Visit the ' +\n",
              "            '<a target=\"_blank\" href=https://colab.research.google.com/notebooks/data_table.ipynb>data table notebook</a>'\n",
              "            + ' to learn more about interactive tables.';\n",
              "          element.innerHTML = '';\n",
              "          dataTable['output_type'] = 'display_data';\n",
              "          await google.colab.output.renderOutput(dataTable, element);\n",
              "          const docLink = document.createElement('div');\n",
              "          docLink.innerHTML = docLinkHtml;\n",
              "          element.appendChild(docLink);\n",
              "        }\n",
              "      </script>\n",
              "    </div>\n",
              "  </div>\n",
              "  "
            ]
          },
          "metadata": {},
          "execution_count": 8
        }
      ]
    },
    {
      "cell_type": "code",
      "source": [
        "big_df.info()"
      ],
      "metadata": {
        "colab": {
          "base_uri": "https://localhost:8080/"
        },
        "id": "96U7OqFT-yvC",
        "outputId": "90ac9f5d-da79-444d-d575-814b05eeda11"
      },
      "execution_count": 9,
      "outputs": [
        {
          "output_type": "stream",
          "name": "stdout",
          "text": [
            "<class 'pandas.core.frame.DataFrame'>\n",
            "RangeIndex: 26409 entries, 0 to 26408\n",
            "Data columns (total 4 columns):\n",
            " #   Column         Non-Null Count  Dtype \n",
            "---  ------         --------------  ----- \n",
            " 0   News-Headline  26409 non-null  object\n",
            " 1   News-Source    26408 non-null  object\n",
            " 2   Date           26409 non-null  object\n",
            " 3   Publisher      26409 non-null  object\n",
            "dtypes: object(4)\n",
            "memory usage: 825.4+ KB\n"
          ]
        }
      ]
    },
    {
      "cell_type": "code",
      "source": [
        "big_df[\"News-Source\"].value_counts(dropna = False)"
      ],
      "metadata": {
        "colab": {
          "base_uri": "https://localhost:8080/"
        },
        "id": "UZRKH6jp-4s7",
        "outputId": "b12fa5bf-9636-4434-e9db-327422042975"
      },
      "execution_count": 10,
      "outputs": [
        {
          "output_type": "execute_result",
          "data": {
            "text/plain": [
              "Verified      13424\n",
              "Unverified    12980\n",
              "unverified        4\n",
              "NaN               1\n",
              "Name: News-Source, dtype: int64"
            ]
          },
          "metadata": {},
          "execution_count": 10
        }
      ]
    },
    {
      "cell_type": "code",
      "source": [
        "#Treating NA\n",
        "nan_value = big_df[big_df['News-Source'].isna()]\n",
        "nan_value"
      ],
      "metadata": {
        "colab": {
          "base_uri": "https://localhost:8080/",
          "height": 81
        },
        "id": "NEESeCR1--3Y",
        "outputId": "68c32676-98d8-4095-8b88-1e695e5eb2cc"
      },
      "execution_count": 11,
      "outputs": [
        {
          "output_type": "execute_result",
          "data": {
            "text/plain": [
              "                                         News-Headline News-Source  \\\n",
              "493  2023: Buhari’s Minister, Pauline Tallen Declar...         NaN   \n",
              "\n",
              "                    Date     Publisher  \n",
              "493  2022-08-05 00:00:00  franktalknow  "
            ],
            "text/html": [
              "\n",
              "  <div id=\"df-b29b781d-8e44-466b-bd8d-9acf153090fa\">\n",
              "    <div class=\"colab-df-container\">\n",
              "      <div>\n",
              "<style scoped>\n",
              "    .dataframe tbody tr th:only-of-type {\n",
              "        vertical-align: middle;\n",
              "    }\n",
              "\n",
              "    .dataframe tbody tr th {\n",
              "        vertical-align: top;\n",
              "    }\n",
              "\n",
              "    .dataframe thead th {\n",
              "        text-align: right;\n",
              "    }\n",
              "</style>\n",
              "<table border=\"1\" class=\"dataframe\">\n",
              "  <thead>\n",
              "    <tr style=\"text-align: right;\">\n",
              "      <th></th>\n",
              "      <th>News-Headline</th>\n",
              "      <th>News-Source</th>\n",
              "      <th>Date</th>\n",
              "      <th>Publisher</th>\n",
              "    </tr>\n",
              "  </thead>\n",
              "  <tbody>\n",
              "    <tr>\n",
              "      <th>493</th>\n",
              "      <td>2023: Buhari’s Minister, Pauline Tallen Declar...</td>\n",
              "      <td>NaN</td>\n",
              "      <td>2022-08-05 00:00:00</td>\n",
              "      <td>franktalknow</td>\n",
              "    </tr>\n",
              "  </tbody>\n",
              "</table>\n",
              "</div>\n",
              "      <button class=\"colab-df-convert\" onclick=\"convertToInteractive('df-b29b781d-8e44-466b-bd8d-9acf153090fa')\"\n",
              "              title=\"Convert this dataframe to an interactive table.\"\n",
              "              style=\"display:none;\">\n",
              "        \n",
              "  <svg xmlns=\"http://www.w3.org/2000/svg\" height=\"24px\"viewBox=\"0 0 24 24\"\n",
              "       width=\"24px\">\n",
              "    <path d=\"M0 0h24v24H0V0z\" fill=\"none\"/>\n",
              "    <path d=\"M18.56 5.44l.94 2.06.94-2.06 2.06-.94-2.06-.94-.94-2.06-.94 2.06-2.06.94zm-11 1L8.5 8.5l.94-2.06 2.06-.94-2.06-.94L8.5 2.5l-.94 2.06-2.06.94zm10 10l.94 2.06.94-2.06 2.06-.94-2.06-.94-.94-2.06-.94 2.06-2.06.94z\"/><path d=\"M17.41 7.96l-1.37-1.37c-.4-.4-.92-.59-1.43-.59-.52 0-1.04.2-1.43.59L10.3 9.45l-7.72 7.72c-.78.78-.78 2.05 0 2.83L4 21.41c.39.39.9.59 1.41.59.51 0 1.02-.2 1.41-.59l7.78-7.78 2.81-2.81c.8-.78.8-2.07 0-2.86zM5.41 20L4 18.59l7.72-7.72 1.47 1.35L5.41 20z\"/>\n",
              "  </svg>\n",
              "      </button>\n",
              "      \n",
              "  <style>\n",
              "    .colab-df-container {\n",
              "      display:flex;\n",
              "      flex-wrap:wrap;\n",
              "      gap: 12px;\n",
              "    }\n",
              "\n",
              "    .colab-df-convert {\n",
              "      background-color: #E8F0FE;\n",
              "      border: none;\n",
              "      border-radius: 50%;\n",
              "      cursor: pointer;\n",
              "      display: none;\n",
              "      fill: #1967D2;\n",
              "      height: 32px;\n",
              "      padding: 0 0 0 0;\n",
              "      width: 32px;\n",
              "    }\n",
              "\n",
              "    .colab-df-convert:hover {\n",
              "      background-color: #E2EBFA;\n",
              "      box-shadow: 0px 1px 2px rgba(60, 64, 67, 0.3), 0px 1px 3px 1px rgba(60, 64, 67, 0.15);\n",
              "      fill: #174EA6;\n",
              "    }\n",
              "\n",
              "    [theme=dark] .colab-df-convert {\n",
              "      background-color: #3B4455;\n",
              "      fill: #D2E3FC;\n",
              "    }\n",
              "\n",
              "    [theme=dark] .colab-df-convert:hover {\n",
              "      background-color: #434B5C;\n",
              "      box-shadow: 0px 1px 3px 1px rgba(0, 0, 0, 0.15);\n",
              "      filter: drop-shadow(0px 1px 2px rgba(0, 0, 0, 0.3));\n",
              "      fill: #FFFFFF;\n",
              "    }\n",
              "  </style>\n",
              "\n",
              "      <script>\n",
              "        const buttonEl =\n",
              "          document.querySelector('#df-b29b781d-8e44-466b-bd8d-9acf153090fa button.colab-df-convert');\n",
              "        buttonEl.style.display =\n",
              "          google.colab.kernel.accessAllowed ? 'block' : 'none';\n",
              "\n",
              "        async function convertToInteractive(key) {\n",
              "          const element = document.querySelector('#df-b29b781d-8e44-466b-bd8d-9acf153090fa');\n",
              "          const dataTable =\n",
              "            await google.colab.kernel.invokeFunction('convertToInteractive',\n",
              "                                                     [key], {});\n",
              "          if (!dataTable) return;\n",
              "\n",
              "          const docLinkHtml = 'Like what you see? Visit the ' +\n",
              "            '<a target=\"_blank\" href=https://colab.research.google.com/notebooks/data_table.ipynb>data table notebook</a>'\n",
              "            + ' to learn more about interactive tables.';\n",
              "          element.innerHTML = '';\n",
              "          dataTable['output_type'] = 'display_data';\n",
              "          await google.colab.output.renderOutput(dataTable, element);\n",
              "          const docLink = document.createElement('div');\n",
              "          docLink.innerHTML = docLinkHtml;\n",
              "          element.appendChild(docLink);\n",
              "        }\n",
              "      </script>\n",
              "    </div>\n",
              "  </div>\n",
              "  "
            ]
          },
          "metadata": {},
          "execution_count": 11
        }
      ]
    },
    {
      "cell_type": "code",
      "source": [
        "big_df[\"News-Source\"] = big_df[\"News-Source\"].replace(\"unverified\", \"Unverified\")\n",
        "big_df[\"News-Source\"] = big_df[\"News-Source\"].replace(np.nan, \"Unverified\")"
      ],
      "metadata": {
        "id": "blQ7mvFx_EBx"
      },
      "execution_count": 12,
      "outputs": []
    },
    {
      "cell_type": "code",
      "source": [
        "big_df[\"Text\"] = big_df[\"News-Headline\"] + \" \" + \"--\" + \" \" + big_df[\"Publisher\"]"
      ],
      "metadata": {
        "id": "wN-wvhN1_K6-"
      },
      "execution_count": 13,
      "outputs": []
    },
    {
      "cell_type": "code",
      "source": [
        "#find duplicate rows across a column of interest\n",
        "duplicateRows = big_df[big_df.duplicated(['Text'])]"
      ],
      "metadata": {
        "id": "vEU9-MKU_PbD"
      },
      "execution_count": 14,
      "outputs": []
    },
    {
      "cell_type": "code",
      "source": [
        "# dropping ALL duplicate values\n",
        "big_df.drop_duplicates(subset =\"Text\",\n",
        "                     keep = \"first\", inplace = True)"
      ],
      "metadata": {
        "id": "787T4hWG_UMX"
      },
      "execution_count": 15,
      "outputs": []
    },
    {
      "cell_type": "code",
      "source": [
        "from sklearn.utils import shuffle\n",
        "\n",
        "# Purify\n",
        "big_df = big_df.iloc[:,[-1, 1]]\n",
        "\n",
        "# Shuffle\n",
        "big_df = shuffle(big_df).reset_index(drop=True)\n",
        "\n",
        "display(big_df)"
      ],
      "metadata": {
        "colab": {
          "base_uri": "https://localhost:8080/",
          "height": 424
        },
        "id": "ODLvr2jS_bpO",
        "outputId": "f205f012-7848-44df-fc53-25de03668f9e"
      },
      "execution_count": 16,
      "outputs": [
        {
          "output_type": "display_data",
          "data": {
            "text/plain": [
              "                                                    Text News-Source\n",
              "0      PT Status of the Race: Is it a three horse rac...  Unverified\n",
              "1      2023: APC Has Ruined Nigeria, We’re Treating C...  Unverified\n",
              "2      Lalong: I Will Work To Deliver Tinubu -- naija...  Unverified\n",
              "3      2023 Elections: NDLEA asks for politicians to ...  Unverified\n",
              "4      2023: I want to succeed el-Rufai - Kaduna budg...    Verified\n",
              "...                                                  ...         ...\n",
              "25814  Governor Makinde wins Oyo Governorship primari...  Unverified\n",
              "25815  President Buhari Swears In Commissioners For N...  Unverified\n",
              "25816  Oyo APC holds congress on Saturday after sever...    Verified\n",
              "25817  ‘Sitting governor who won election with 300 vo...  Unverified\n",
              "25818  A PDP Southern Candidate Can Win Against Tinub...    Verified\n",
              "\n",
              "[25819 rows x 2 columns]"
            ],
            "text/html": [
              "\n",
              "  <div id=\"df-03274bf1-0353-4892-bce8-69ec2ad3aa79\">\n",
              "    <div class=\"colab-df-container\">\n",
              "      <div>\n",
              "<style scoped>\n",
              "    .dataframe tbody tr th:only-of-type {\n",
              "        vertical-align: middle;\n",
              "    }\n",
              "\n",
              "    .dataframe tbody tr th {\n",
              "        vertical-align: top;\n",
              "    }\n",
              "\n",
              "    .dataframe thead th {\n",
              "        text-align: right;\n",
              "    }\n",
              "</style>\n",
              "<table border=\"1\" class=\"dataframe\">\n",
              "  <thead>\n",
              "    <tr style=\"text-align: right;\">\n",
              "      <th></th>\n",
              "      <th>Text</th>\n",
              "      <th>News-Source</th>\n",
              "    </tr>\n",
              "  </thead>\n",
              "  <tbody>\n",
              "    <tr>\n",
              "      <th>0</th>\n",
              "      <td>PT Status of the Race: Is it a three horse rac...</td>\n",
              "      <td>Unverified</td>\n",
              "    </tr>\n",
              "    <tr>\n",
              "      <th>1</th>\n",
              "      <td>2023: APC Has Ruined Nigeria, We’re Treating C...</td>\n",
              "      <td>Unverified</td>\n",
              "    </tr>\n",
              "    <tr>\n",
              "      <th>2</th>\n",
              "      <td>Lalong: I Will Work To Deliver Tinubu -- naija...</td>\n",
              "      <td>Unverified</td>\n",
              "    </tr>\n",
              "    <tr>\n",
              "      <th>3</th>\n",
              "      <td>2023 Elections: NDLEA asks for politicians to ...</td>\n",
              "      <td>Unverified</td>\n",
              "    </tr>\n",
              "    <tr>\n",
              "      <th>4</th>\n",
              "      <td>2023: I want to succeed el-Rufai - Kaduna budg...</td>\n",
              "      <td>Verified</td>\n",
              "    </tr>\n",
              "    <tr>\n",
              "      <th>...</th>\n",
              "      <td>...</td>\n",
              "      <td>...</td>\n",
              "    </tr>\n",
              "    <tr>\n",
              "      <th>25814</th>\n",
              "      <td>Governor Makinde wins Oyo Governorship primari...</td>\n",
              "      <td>Unverified</td>\n",
              "    </tr>\n",
              "    <tr>\n",
              "      <th>25815</th>\n",
              "      <td>President Buhari Swears In Commissioners For N...</td>\n",
              "      <td>Unverified</td>\n",
              "    </tr>\n",
              "    <tr>\n",
              "      <th>25816</th>\n",
              "      <td>Oyo APC holds congress on Saturday after sever...</td>\n",
              "      <td>Verified</td>\n",
              "    </tr>\n",
              "    <tr>\n",
              "      <th>25817</th>\n",
              "      <td>‘Sitting governor who won election with 300 vo...</td>\n",
              "      <td>Unverified</td>\n",
              "    </tr>\n",
              "    <tr>\n",
              "      <th>25818</th>\n",
              "      <td>A PDP Southern Candidate Can Win Against Tinub...</td>\n",
              "      <td>Verified</td>\n",
              "    </tr>\n",
              "  </tbody>\n",
              "</table>\n",
              "<p>25819 rows × 2 columns</p>\n",
              "</div>\n",
              "      <button class=\"colab-df-convert\" onclick=\"convertToInteractive('df-03274bf1-0353-4892-bce8-69ec2ad3aa79')\"\n",
              "              title=\"Convert this dataframe to an interactive table.\"\n",
              "              style=\"display:none;\">\n",
              "        \n",
              "  <svg xmlns=\"http://www.w3.org/2000/svg\" height=\"24px\"viewBox=\"0 0 24 24\"\n",
              "       width=\"24px\">\n",
              "    <path d=\"M0 0h24v24H0V0z\" fill=\"none\"/>\n",
              "    <path d=\"M18.56 5.44l.94 2.06.94-2.06 2.06-.94-2.06-.94-.94-2.06-.94 2.06-2.06.94zm-11 1L8.5 8.5l.94-2.06 2.06-.94-2.06-.94L8.5 2.5l-.94 2.06-2.06.94zm10 10l.94 2.06.94-2.06 2.06-.94-2.06-.94-.94-2.06-.94 2.06-2.06.94z\"/><path d=\"M17.41 7.96l-1.37-1.37c-.4-.4-.92-.59-1.43-.59-.52 0-1.04.2-1.43.59L10.3 9.45l-7.72 7.72c-.78.78-.78 2.05 0 2.83L4 21.41c.39.39.9.59 1.41.59.51 0 1.02-.2 1.41-.59l7.78-7.78 2.81-2.81c.8-.78.8-2.07 0-2.86zM5.41 20L4 18.59l7.72-7.72 1.47 1.35L5.41 20z\"/>\n",
              "  </svg>\n",
              "      </button>\n",
              "      \n",
              "  <style>\n",
              "    .colab-df-container {\n",
              "      display:flex;\n",
              "      flex-wrap:wrap;\n",
              "      gap: 12px;\n",
              "    }\n",
              "\n",
              "    .colab-df-convert {\n",
              "      background-color: #E8F0FE;\n",
              "      border: none;\n",
              "      border-radius: 50%;\n",
              "      cursor: pointer;\n",
              "      display: none;\n",
              "      fill: #1967D2;\n",
              "      height: 32px;\n",
              "      padding: 0 0 0 0;\n",
              "      width: 32px;\n",
              "    }\n",
              "\n",
              "    .colab-df-convert:hover {\n",
              "      background-color: #E2EBFA;\n",
              "      box-shadow: 0px 1px 2px rgba(60, 64, 67, 0.3), 0px 1px 3px 1px rgba(60, 64, 67, 0.15);\n",
              "      fill: #174EA6;\n",
              "    }\n",
              "\n",
              "    [theme=dark] .colab-df-convert {\n",
              "      background-color: #3B4455;\n",
              "      fill: #D2E3FC;\n",
              "    }\n",
              "\n",
              "    [theme=dark] .colab-df-convert:hover {\n",
              "      background-color: #434B5C;\n",
              "      box-shadow: 0px 1px 3px 1px rgba(0, 0, 0, 0.15);\n",
              "      filter: drop-shadow(0px 1px 2px rgba(0, 0, 0, 0.3));\n",
              "      fill: #FFFFFF;\n",
              "    }\n",
              "  </style>\n",
              "\n",
              "      <script>\n",
              "        const buttonEl =\n",
              "          document.querySelector('#df-03274bf1-0353-4892-bce8-69ec2ad3aa79 button.colab-df-convert');\n",
              "        buttonEl.style.display =\n",
              "          google.colab.kernel.accessAllowed ? 'block' : 'none';\n",
              "\n",
              "        async function convertToInteractive(key) {\n",
              "          const element = document.querySelector('#df-03274bf1-0353-4892-bce8-69ec2ad3aa79');\n",
              "          const dataTable =\n",
              "            await google.colab.kernel.invokeFunction('convertToInteractive',\n",
              "                                                     [key], {});\n",
              "          if (!dataTable) return;\n",
              "\n",
              "          const docLinkHtml = 'Like what you see? Visit the ' +\n",
              "            '<a target=\"_blank\" href=https://colab.research.google.com/notebooks/data_table.ipynb>data table notebook</a>'\n",
              "            + ' to learn more about interactive tables.';\n",
              "          element.innerHTML = '';\n",
              "          dataTable['output_type'] = 'display_data';\n",
              "          await google.colab.output.renderOutput(dataTable, element);\n",
              "          const docLink = document.createElement('div');\n",
              "          docLink.innerHTML = docLinkHtml;\n",
              "          element.appendChild(docLink);\n",
              "        }\n",
              "      </script>\n",
              "    </div>\n",
              "  </div>\n",
              "  "
            ]
          },
          "metadata": {}
        }
      ]
    },
    {
      "cell_type": "code",
      "source": [
        "train_val_df = big_df.sample(frac = 0.8)\n",
        "test_df = big_df.drop(train_val_df.index)\n",
        "\n",
        "train_df = train_val_df.sample(frac = 0.8)\n",
        "val_df = train_val_df.drop(train_df.index)\n",
        "\n",
        "# Reset Index\n",
        "train_df = train_df.reset_index(drop=True)\n",
        "val_df = val_df.reset_index(drop=True)\n",
        "test_df = test_df.reset_index(drop=True)\n",
        "\n",
        "print('trainset size:', train_df.shape)\n",
        "print('valset size:', val_df.shape)\n",
        "print('testset size:', test_df.shape)"
      ],
      "metadata": {
        "colab": {
          "base_uri": "https://localhost:8080/"
        },
        "id": "GKqNempQ_lIL",
        "outputId": "33cd8b91-5cfc-4625-91aa-dd49ff97d361"
      },
      "execution_count": 17,
      "outputs": [
        {
          "output_type": "stream",
          "name": "stdout",
          "text": [
            "trainset size: (16524, 2)\n",
            "valset size: (4131, 2)\n",
            "testset size: (5164, 2)\n"
          ]
        }
      ]
    },
    {
      "cell_type": "code",
      "source": [
        "train_df.to_csv('traindata.csv',  index=False)\n",
        "val_df.to_csv('valdata.csv',  index=False)\n",
        "test_df.to_csv('testdata.csv', index=False)"
      ],
      "metadata": {
        "id": "7hXpj9NA_26q"
      },
      "execution_count": 18,
      "outputs": []
    },
    {
      "cell_type": "markdown",
      "source": [
        "#### **Choose a model architecture**\n",
        "Choose any  one of the model architectures of your choice and comment the rest. Each model architecture is different from the other and will yield different results. The MobileBERT model takes more time to train as its architecture is quite complex. However, feel free to play with different architectures until you find the best result."
      ],
      "metadata": {
        "id": "-hVhIJJ8AIk1"
      }
    },
    {
      "cell_type": "code",
      "metadata": {
        "id": "pbew43TbG9HQ"
      },
      "source": [
        "# Use a model spec from model maker. Options are 'mobilebert_classifier', 'bert_classifier' and 'average_word_vec'\n",
        "# The first 2 are the BERT models, which is accurate, but larger and slower to train\n",
        "# Average Word Vec is kinda like transfer learning where there are pre-trained word weights\n",
        "# and dictionaries. We will use it here.\n",
        "spec = model_spec.get('average_word_vec')\n",
        "spec.num_words = 2000\n",
        "spec.seq_len = 20\n",
        "spec.wordvec_dim = 7"
      ],
      "execution_count": 19,
      "outputs": []
    },
    {
      "cell_type": "code",
      "metadata": {
        "id": "-WdQmzTKHFVn"
      },
      "source": [
        "# Load the CSV using DataLoader.from_csv to make the training_data\n",
        "train_data = DataLoader.from_csv(\n",
        "      filename='traindata.csv',\n",
        "      text_column='Text',\n",
        "      label_column='News-Source',\n",
        "      model_spec=spec,\n",
        "      is_training=True)\n",
        "\n",
        "test_data = DataLoader.from_csv(\n",
        "      filename='testdata.csv',\n",
        "      text_column='Text',\n",
        "      label_column='News-Source',\n",
        "      model_spec=spec,\n",
        "      is_training=False) \n",
        "val_data = DataLoader.from_csv(\n",
        "      filename='valdata.csv',\n",
        "      text_column='Text',\n",
        "      label_column='News-Source',\n",
        "      model_spec=spec,\n",
        "      is_training=False) "
      ],
      "execution_count": 20,
      "outputs": []
    },
    {
      "cell_type": "code",
      "metadata": {
        "id": "qThBoIIyG_Du",
        "outputId": "99ce1174-64c6-43a1-d21f-cd649f14a310",
        "colab": {
          "base_uri": "https://localhost:8080/"
        }
      },
      "source": [
        "# Build the model\n",
        "model = text_classifier.create(train_data, model_spec=spec, epochs=50, validation_data=test_data)"
      ],
      "execution_count": 21,
      "outputs": [
        {
          "output_type": "stream",
          "name": "stdout",
          "text": [
            "516/516 [==============================] - 6s 6ms/step - loss: 0.5854 - accuracy: 0.7576 - val_loss: 0.4139 - val_accuracy: 0.9328\n",
            "Epoch 2/2\n",
            "516/516 [==============================] - 3s 5ms/step - loss: 0.2711 - accuracy: 0.9714 - val_loss: 0.1532 - val_accuracy: 0.9866\n",
            "Epoch 3/3\n",
            "516/516 [==============================] - 3s 5ms/step - loss: 0.1162 - accuracy: 0.9850 - val_loss: 0.0754 - val_accuracy: 0.9886\n",
            "Epoch 4/4\n",
            "516/516 [==============================] - 3s 5ms/step - loss: 0.0642 - accuracy: 0.9880 - val_loss: 0.0464 - val_accuracy: 0.9895\n",
            "Epoch 5/5\n",
            "516/516 [==============================] - 3s 5ms/step - loss: 0.0437 - accuracy: 0.9894 - val_loss: 0.0358 - val_accuracy: 0.9903\n",
            "Epoch 6/6\n",
            "516/516 [==============================] - 3s 5ms/step - loss: 0.0350 - accuracy: 0.9909 - val_loss: 0.0302 - val_accuracy: 0.9919\n",
            "Epoch 7/7\n",
            "516/516 [==============================] - 3s 5ms/step - loss: 0.0273 - accuracy: 0.9935 - val_loss: 0.0266 - val_accuracy: 0.9919\n",
            "Epoch 8/8\n",
            "516/516 [==============================] - 3s 5ms/step - loss: 0.0264 - accuracy: 0.9937 - val_loss: 0.0265 - val_accuracy: 0.9921\n",
            "Epoch 9/9\n",
            "516/516 [==============================] - 3s 5ms/step - loss: 0.0217 - accuracy: 0.9950 - val_loss: 0.0247 - val_accuracy: 0.9923\n",
            "Epoch 10/10\n",
            "516/516 [==============================] - 3s 5ms/step - loss: 0.0189 - accuracy: 0.9954 - val_loss: 0.0240 - val_accuracy: 0.9926\n",
            "Epoch 11/11\n",
            "516/516 [==============================] - 3s 5ms/step - loss: 0.0184 - accuracy: 0.9955 - val_loss: 0.0241 - val_accuracy: 0.9928\n",
            "Epoch 12/12\n",
            "516/516 [==============================] - 3s 5ms/step - loss: 0.0159 - accuracy: 0.9962 - val_loss: 0.0238 - val_accuracy: 0.9934\n",
            "Epoch 13/13\n",
            "516/516 [==============================] - 3s 5ms/step - loss: 0.0162 - accuracy: 0.9965 - val_loss: 0.0254 - val_accuracy: 0.9932\n",
            "Epoch 14/14\n",
            "516/516 [==============================] - 3s 5ms/step - loss: 0.0152 - accuracy: 0.9962 - val_loss: 0.0250 - val_accuracy: 0.9930\n",
            "Epoch 15/15\n",
            "516/516 [==============================] - 3s 5ms/step - loss: 0.0152 - accuracy: 0.9964 - val_loss: 0.0244 - val_accuracy: 0.9934\n",
            "Epoch 16/16\n",
            "516/516 [==============================] - 3s 5ms/step - loss: 0.0141 - accuracy: 0.9970 - val_loss: 0.0246 - val_accuracy: 0.9928\n",
            "Epoch 17/17\n",
            "516/516 [==============================] - 3s 5ms/step - loss: 0.0130 - accuracy: 0.9970 - val_loss: 0.0282 - val_accuracy: 0.9923\n",
            "Epoch 18/18\n",
            "516/516 [==============================] - 3s 5ms/step - loss: 0.0127 - accuracy: 0.9973 - val_loss: 0.0252 - val_accuracy: 0.9932\n",
            "Epoch 19/19\n",
            "516/516 [==============================] - 3s 5ms/step - loss: 0.0132 - accuracy: 0.9972 - val_loss: 0.0260 - val_accuracy: 0.9936\n",
            "Epoch 20/20\n",
            "516/516 [==============================] - 3s 5ms/step - loss: 0.0131 - accuracy: 0.9972 - val_loss: 0.0268 - val_accuracy: 0.9928\n",
            "Epoch 21/21\n",
            "516/516 [==============================] - 3s 5ms/step - loss: 0.0115 - accuracy: 0.9975 - val_loss: 0.0301 - val_accuracy: 0.9924\n",
            "Epoch 22/22\n",
            "516/516 [==============================] - 3s 5ms/step - loss: 0.0121 - accuracy: 0.9974 - val_loss: 0.0289 - val_accuracy: 0.9926\n",
            "Epoch 23/23\n",
            "516/516 [==============================] - 3s 5ms/step - loss: 0.0109 - accuracy: 0.9972 - val_loss: 0.0310 - val_accuracy: 0.9921\n",
            "Epoch 24/24\n",
            "516/516 [==============================] - 3s 5ms/step - loss: 0.0103 - accuracy: 0.9982 - val_loss: 0.0299 - val_accuracy: 0.9926\n",
            "Epoch 25/25\n",
            "516/516 [==============================] - 3s 5ms/step - loss: 0.0087 - accuracy: 0.9980 - val_loss: 0.0340 - val_accuracy: 0.9917\n",
            "Epoch 26/26\n",
            "516/516 [==============================] - 3s 5ms/step - loss: 0.0142 - accuracy: 0.9973 - val_loss: 0.0312 - val_accuracy: 0.9924\n",
            "Epoch 27/27\n",
            "516/516 [==============================] - 3s 5ms/step - loss: 0.0127 - accuracy: 0.9975 - val_loss: 0.0320 - val_accuracy: 0.9923\n",
            "Epoch 28/28\n",
            "516/516 [==============================] - 3s 5ms/step - loss: 0.0083 - accuracy: 0.9982 - val_loss: 0.0341 - val_accuracy: 0.9924\n",
            "Epoch 29/29\n",
            "516/516 [==============================] - 3s 5ms/step - loss: 0.0106 - accuracy: 0.9979 - val_loss: 0.0340 - val_accuracy: 0.9926\n",
            "Epoch 30/30\n",
            "516/516 [==============================] - 3s 5ms/step - loss: 0.0114 - accuracy: 0.9976 - val_loss: 0.0355 - val_accuracy: 0.9919\n",
            "Epoch 31/31\n",
            "516/516 [==============================] - 2s 5ms/step - loss: 0.0102 - accuracy: 0.9981 - val_loss: 0.0371 - val_accuracy: 0.9921\n",
            "Epoch 32/32\n",
            "516/516 [==============================] - 3s 5ms/step - loss: 0.0103 - accuracy: 0.9978 - val_loss: 0.0355 - val_accuracy: 0.9926\n",
            "Epoch 33/33\n",
            "516/516 [==============================] - 3s 6ms/step - loss: 0.0113 - accuracy: 0.9982 - val_loss: 0.0360 - val_accuracy: 0.9924\n",
            "Epoch 34/34\n",
            "516/516 [==============================] - 3s 5ms/step - loss: 0.0129 - accuracy: 0.9978 - val_loss: 0.0374 - val_accuracy: 0.9921\n",
            "Epoch 35/35\n",
            "516/516 [==============================] - 3s 5ms/step - loss: 0.0110 - accuracy: 0.9981 - val_loss: 0.0388 - val_accuracy: 0.9917\n",
            "Epoch 36/36\n",
            "516/516 [==============================] - 3s 5ms/step - loss: 0.0075 - accuracy: 0.9985 - val_loss: 0.0388 - val_accuracy: 0.9917\n",
            "Epoch 37/37\n",
            "516/516 [==============================] - 3s 5ms/step - loss: 0.0105 - accuracy: 0.9982 - val_loss: 0.0382 - val_accuracy: 0.9919\n",
            "Epoch 38/38\n",
            "516/516 [==============================] - 3s 5ms/step - loss: 0.0066 - accuracy: 0.9988 - val_loss: 0.0405 - val_accuracy: 0.9917\n",
            "Epoch 39/39\n",
            "516/516 [==============================] - 3s 5ms/step - loss: 0.0098 - accuracy: 0.9978 - val_loss: 0.0418 - val_accuracy: 0.9917\n",
            "Epoch 40/40\n",
            "516/516 [==============================] - 3s 5ms/step - loss: 0.0101 - accuracy: 0.9982 - val_loss: 0.0460 - val_accuracy: 0.9915\n",
            "Epoch 41/41\n",
            "516/516 [==============================] - 3s 5ms/step - loss: 0.0076 - accuracy: 0.9986 - val_loss: 0.0453 - val_accuracy: 0.9915\n",
            "Epoch 42/42\n",
            "516/516 [==============================] - 3s 5ms/step - loss: 0.0099 - accuracy: 0.9981 - val_loss: 0.0431 - val_accuracy: 0.9919\n",
            "Epoch 43/43\n",
            "516/516 [==============================] - 3s 5ms/step - loss: 0.0109 - accuracy: 0.9979 - val_loss: 0.0455 - val_accuracy: 0.9915\n",
            "Epoch 44/44\n",
            "516/516 [==============================] - 3s 6ms/step - loss: 0.0091 - accuracy: 0.9986 - val_loss: 0.0476 - val_accuracy: 0.9909\n",
            "Epoch 45/45\n",
            "516/516 [==============================] - 3s 5ms/step - loss: 0.0091 - accuracy: 0.9986 - val_loss: 0.0456 - val_accuracy: 0.9915\n",
            "Epoch 46/46\n",
            "516/516 [==============================] - 3s 5ms/step - loss: 0.0109 - accuracy: 0.9981 - val_loss: 0.0425 - val_accuracy: 0.9919\n",
            "Epoch 47/47\n",
            "516/516 [==============================] - 3s 5ms/step - loss: 0.0077 - accuracy: 0.9987 - val_loss: 0.0462 - val_accuracy: 0.9917\n",
            "Epoch 48/48\n",
            "516/516 [==============================] - 3s 5ms/step - loss: 0.0073 - accuracy: 0.9988 - val_loss: 0.0470 - val_accuracy: 0.9915\n",
            "Epoch 49/49\n",
            "516/516 [==============================] - 3s 5ms/step - loss: 0.0074 - accuracy: 0.9989 - val_loss: 0.0465 - val_accuracy: 0.9915\n",
            "Epoch 50/50\n",
            "516/516 [==============================] - 3s 5ms/step - loss: 0.0072 - accuracy: 0.9987 - val_loss: 0.0480 - val_accuracy: 0.9915\n"
          ]
        }
      ]
    },
    {
      "cell_type": "code",
      "source": [
        "model.summary()"
      ],
      "metadata": {
        "colab": {
          "base_uri": "https://localhost:8080/"
        },
        "id": "Kr0jCyyQCwJ8",
        "outputId": "436589aa-4d21-4fc3-a6b7-9d1de3e23a32"
      },
      "execution_count": 22,
      "outputs": [
        {
          "output_type": "stream",
          "name": "stdout",
          "text": [
            "Model: \"sequential\"\n",
            "_________________________________________________________________\n",
            " Layer (type)                Output Shape              Param #   \n",
            "=================================================================\n",
            " embedding (Embedding)       (None, 20, 7)             14021     \n",
            "                                                                 \n",
            " global_average_pooling1d (G  (None, 7)                0         \n",
            " lobalAveragePooling1D)                                          \n",
            "                                                                 \n",
            " dense (Dense)               (None, 7)                 56        \n",
            "                                                                 \n",
            " dropout (Dropout)           (None, 7)                 0         \n",
            "                                                                 \n",
            " dense_1 (Dense)             (None, 2)                 16        \n",
            "                                                                 \n",
            "=================================================================\n",
            "Total params: 14,093\n",
            "Trainable params: 14,093\n",
            "Non-trainable params: 0\n",
            "_________________________________________________________________\n"
          ]
        }
      ]
    },
    {
      "cell_type": "code",
      "metadata": {
        "id": "5QXEwKYxdPzs",
        "outputId": "f1360dc5-1451-4158-f880-a3cbdf04caa8",
        "colab": {
          "base_uri": "https://localhost:8080/"
        }
      },
      "source": [
        "loss, acc = model.evaluate(test_data)"
      ],
      "execution_count": 23,
      "outputs": [
        {
          "output_type": "stream",
          "name": "stdout",
          "text": [
            "162/162 [==============================] - 1s 3ms/step - loss: 0.0480 - accuracy: 0.9915\n"
          ]
        }
      ]
    },
    {
      "cell_type": "code",
      "source": [
        "loss, acc = model.evaluate(val_data)"
      ],
      "metadata": {
        "colab": {
          "base_uri": "https://localhost:8080/"
        },
        "id": "79Q4j1ywC940",
        "outputId": "fdff3800-e757-44ce-a244-564b97fa3fe7"
      },
      "execution_count": 24,
      "outputs": [
        {
          "output_type": "stream",
          "name": "stdout",
          "text": [
            "130/130 [==============================] - 0s 3ms/step - loss: 0.0536 - accuracy: 0.9935\n"
          ]
        }
      ]
    },
    {
      "cell_type": "code",
      "metadata": {
        "id": "In-1-rzW-_9b"
      },
      "source": [
        "# This will export to SavedModel format with the model, vocabulary and labels. \n",
        "model.export(export_dir='/mm_runam_savedmodel/', export_format=[ExportFormat.LABEL, ExportFormat.VOCAB, ExportFormat.SAVED_MODEL])\n",
        "\n",
        "# You can find your files in colab by clicking the 'folder' tab to the left of\n",
        "# this code window, and then navigating 'up' a directory to find the root\n",
        "# directory listing -- and from there you should see /mm_runam_savedmodel/"
      ],
      "execution_count": 25,
      "outputs": []
    },
    {
      "cell_type": "code",
      "source": [
        "# Rename the SavedModel subfolder to a version number\n",
        "!mv /mm_runam_savedmodel/saved_model /mm_runam_savedmodel/123\n",
        "!zip -r mm_runam_savedmodel.zip /mm_runam_savedmodel/ "
      ],
      "metadata": {
        "id": "mIhBu3pI_2Xz",
        "outputId": "95f3af09-d35b-48d9-8f22-b2fc4c90217b",
        "colab": {
          "base_uri": "https://localhost:8080/"
        }
      },
      "execution_count": 26,
      "outputs": [
        {
          "output_type": "stream",
          "name": "stdout",
          "text": [
            "updating: mm_runam_savedmodel/ (stored 0%)\n",
            "updating: mm_runam_savedmodel/labels.txt (deflated 21%)\n",
            "updating: mm_runam_savedmodel/123/ (stored 0%)\n",
            "updating: mm_runam_savedmodel/123/keras_metadata.pb (deflated 86%)\n",
            "updating: mm_runam_savedmodel/123/variables/ (stored 0%)\n",
            "updating: mm_runam_savedmodel/123/variables/variables.data-00000-of-00001 (deflated 23%)\n",
            "updating: mm_runam_savedmodel/123/variables/variables.index (deflated 59%)\n",
            "updating: mm_runam_savedmodel/123/saved_model.pb (deflated 87%)\n",
            "updating: mm_runam_savedmodel/123/assets/ (stored 0%)\n",
            "updating: mm_runam_savedmodel/vocab.txt (deflated 48%)\n"
          ]
        }
      ]
    },
    {
      "cell_type": "code",
      "metadata": {
        "id": "3UNNrCWbKbxh",
        "outputId": "27648d7a-d9fa-406d-c57d-3b9dcf5dd8e8",
        "colab": {
          "base_uri": "https://localhost:8080/",
          "height": 17
        }
      },
      "source": [
        "# Optional extra\n",
        "# You can use this cell to export details for projector.tensorflow.org\n",
        "# Where you can explore the embeddings that were learned for this dataset\n",
        "embeddings = model.model.layers[0]\n",
        "weights = embeddings.get_weights()[0]\n",
        "tokenizer = model.model_spec.vocab\n",
        "\n",
        "import io\n",
        "\n",
        "out_v = io.open('vecs.tsv', 'w', encoding='utf-8')\n",
        "out_m = io.open('meta.tsv', 'w', encoding='utf-8')\n",
        "for word in tokenizer:\n",
        "  #word = tokenizer.decode([word_num])\n",
        "  value = tokenizer[word]\n",
        "  embeddings = weights[value]\n",
        "  out_m.write(word + \"\\n\")\n",
        "  out_v.write('\\t'.join([str(x) for x in embeddings]) + \"\\n\")\n",
        "out_v.close()\n",
        "out_m.close()\n",
        "\n",
        "\n",
        "try:\n",
        "  from google.colab import files\n",
        "except ImportError:\n",
        "  pass\n",
        "else:\n",
        "  files.download('vecs.tsv')\n",
        "  files.download('meta.tsv')"
      ],
      "execution_count": null,
      "outputs": [
        {
          "output_type": "display_data",
          "data": {
            "text/plain": [
              "<IPython.core.display.Javascript object>"
            ],
            "application/javascript": [
              "\n",
              "    async function download(id, filename, size) {\n",
              "      if (!google.colab.kernel.accessAllowed) {\n",
              "        return;\n",
              "      }\n",
              "      const div = document.createElement('div');\n",
              "      const label = document.createElement('label');\n",
              "      label.textContent = `Downloading \"${filename}\": `;\n",
              "      div.appendChild(label);\n",
              "      const progress = document.createElement('progress');\n",
              "      progress.max = size;\n",
              "      div.appendChild(progress);\n",
              "      document.body.appendChild(div);\n",
              "\n",
              "      const buffers = [];\n",
              "      let downloaded = 0;\n",
              "\n",
              "      const channel = await google.colab.kernel.comms.open(id);\n",
              "      // Send a message to notify the kernel that we're ready.\n",
              "      channel.send({})\n",
              "\n",
              "      for await (const message of channel.messages) {\n",
              "        // Send a message to notify the kernel that we're ready.\n",
              "        channel.send({})\n",
              "        if (message.buffers) {\n",
              "          for (const buffer of message.buffers) {\n",
              "            buffers.push(buffer);\n",
              "            downloaded += buffer.byteLength;\n",
              "            progress.value = downloaded;\n",
              "          }\n",
              "        }\n",
              "      }\n",
              "      const blob = new Blob(buffers, {type: 'application/binary'});\n",
              "      const a = document.createElement('a');\n",
              "      a.href = window.URL.createObjectURL(blob);\n",
              "      a.download = filename;\n",
              "      div.appendChild(a);\n",
              "      a.click();\n",
              "      div.remove();\n",
              "    }\n",
              "  "
            ]
          },
          "metadata": {}
        },
        {
          "output_type": "display_data",
          "data": {
            "text/plain": [
              "<IPython.core.display.Javascript object>"
            ],
            "application/javascript": [
              "download(\"download_5cfb60fc-c3ee-48e7-a1d2-45f98abc4109\", \"vecs.tsv\", 168595)"
            ]
          },
          "metadata": {}
        },
        {
          "output_type": "display_data",
          "data": {
            "text/plain": [
              "<IPython.core.display.Javascript object>"
            ],
            "application/javascript": [
              "\n",
              "    async function download(id, filename, size) {\n",
              "      if (!google.colab.kernel.accessAllowed) {\n",
              "        return;\n",
              "      }\n",
              "      const div = document.createElement('div');\n",
              "      const label = document.createElement('label');\n",
              "      label.textContent = `Downloading \"${filename}\": `;\n",
              "      div.appendChild(label);\n",
              "      const progress = document.createElement('progress');\n",
              "      progress.max = size;\n",
              "      div.appendChild(progress);\n",
              "      document.body.appendChild(div);\n",
              "\n",
              "      const buffers = [];\n",
              "      let downloaded = 0;\n",
              "\n",
              "      const channel = await google.colab.kernel.comms.open(id);\n",
              "      // Send a message to notify the kernel that we're ready.\n",
              "      channel.send({})\n",
              "\n",
              "      for await (const message of channel.messages) {\n",
              "        // Send a message to notify the kernel that we're ready.\n",
              "        channel.send({})\n",
              "        if (message.buffers) {\n",
              "          for (const buffer of message.buffers) {\n",
              "            buffers.push(buffer);\n",
              "            downloaded += buffer.byteLength;\n",
              "            progress.value = downloaded;\n",
              "          }\n",
              "        }\n",
              "      }\n",
              "      const blob = new Blob(buffers, {type: 'application/binary'});\n",
              "      const a = document.createElement('a');\n",
              "      a.href = window.URL.createObjectURL(blob);\n",
              "      a.download = filename;\n",
              "      div.appendChild(a);\n",
              "      a.click();\n",
              "      div.remove();\n",
              "    }\n",
              "  "
            ]
          },
          "metadata": {}
        },
        {
          "output_type": "display_data",
          "data": {
            "text/plain": [
              "<IPython.core.display.Javascript object>"
            ],
            "application/javascript": [
              "download(\"download_20a01de5-fe05-4aea-8111-2cdde68431df\", \"meta.tsv\", 12642)"
            ]
          },
          "metadata": {}
        }
      ]
    },
    {
      "cell_type": "code",
      "source": [],
      "metadata": {
        "id": "IRXvM0tA8Edh"
      },
      "execution_count": null,
      "outputs": []
    }
  ]
}